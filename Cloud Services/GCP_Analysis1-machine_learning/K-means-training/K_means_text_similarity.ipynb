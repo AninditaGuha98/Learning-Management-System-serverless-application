{
 "cells": [
  {
   "cell_type": "code",
   "execution_count": 109,
   "metadata": {},
   "outputs": [],
   "source": [
    "from google.cloud import storage\n",
    "import re\n",
    "\n",
    "number = 2\n",
    "email = \"harshgp44@gmail.com\"\n",
    "\n",
    "client = storage.Client.from_service_account_json(\n",
    "    'GCS_GCF_key.json')\n",
    "bucket = client.get_bucket('machine-learning-lms')\n",
    "titles_list=[]\n",
    "for i in range(1,number+1):\n",
    "    text = bucket.get_blob('machine_learning' + str(i) + '_' + email + '.txt')\n",
    "    text=text.download_as_string().decode(\"utf-8\")\n",
    "    titles_list.extend(re.findall(\"<TITLE>(.*)<\\/TITLE>\", text))\n",
    "training = titles_list\n",
    "# testing = titles_list[-10:]"
   ]
  },
  {
   "cell_type": "code",
   "execution_count": 110,
   "metadata": {},
   "outputs": [
    {
     "name": "stdout",
     "output_type": "stream",
     "text": [
      "\n",
      "\n",
      "Prediction\n",
      "[6 5 4 5 2 0 4 7 6 5 5 1 1 1 2 5 2 1 0 0 6 0 6 1 2 7 1 7 3 0 6 5 4 5 1 1 5\n",
      " 0 1 2 7 6 5 0 4 3 0 6 1 5]\n"
     ]
    }
   ],
   "source": [
    "from sklearn.feature_extraction.text import TfidfVectorizer\n",
    "from sklearn.cluster import KMeans\n",
    "from sklearn.metrics import adjusted_rand_score\n",
    "\n",
    "vectorizer = TfidfVectorizer(stop_words='english')\n",
    "X = vectorizer.fit_transform(training)\n",
    "\n",
    "model = KMeans(init='k-means++', max_iter=100, n_init=1)\n",
    "model.fit(X)\n",
    "\n",
    "# order_centroids = model.cluster_centers_.argsort()[:, ::-1]\n",
    "# terms = vectorizer.get_feature_names()\n",
    "# for i in range(true_k):\n",
    "#     print(\"Cluster %d:\" % i),\n",
    "#     for ind in order_centroids[i, :10]:\n",
    "#         print(' %s' % terms[ind]),\n",
    "#     print\n",
    "print(\"Model training complete...\")\n",
    "\n",
    "print(\"Prediction\")\n",
    "Y = vectorizer.transform(training)\n",
    "prediction = model.predict(Y)\n",
    "print(prediction)"
   ]
  },
  {
   "cell_type": "code",
   "execution_count": null,
   "metadata": {},
   "outputs": [],
   "source": []
  },
  {
   "cell_type": "code",
   "execution_count": null,
   "metadata": {},
   "outputs": [],
   "source": []
  }
 ],
 "metadata": {
  "environment": {
   "name": "common-cpu.m53",
   "type": "gcloud",
   "uri": "gcr.io/deeplearning-platform-release/base-cpu:m53"
  },
  "kernelspec": {
   "display_name": "Python 3",
   "language": "python",
   "name": "python3"
  },
  "language_info": {
   "codemirror_mode": {
    "name": "ipython",
    "version": 3
   },
   "file_extension": ".py",
   "mimetype": "text/x-python",
   "name": "python",
   "nbconvert_exporter": "python",
   "pygments_lexer": "ipython3",
   "version": "3.7.8"
  }
 },
 "nbformat": 4,
 "nbformat_minor": 4
}
